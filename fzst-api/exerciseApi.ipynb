{
 "cells": [
  {
   "cell_type": "code",
   "execution_count": 2,
   "metadata": {},
   "outputs": [],
   "source": [
    "import pandas as pd\n",
    "import numpy as np\n",
    "import matplotlib.pyplot as plt"
   ]
  },
  {
   "cell_type": "code",
   "execution_count": 3,
   "metadata": {},
   "outputs": [
    {
     "data": {
      "text/html": [
       "<div>\n",
       "<style scoped>\n",
       "    .dataframe tbody tr th:only-of-type {\n",
       "        vertical-align: middle;\n",
       "    }\n",
       "\n",
       "    .dataframe tbody tr th {\n",
       "        vertical-align: top;\n",
       "    }\n",
       "\n",
       "    .dataframe thead th {\n",
       "        text-align: right;\n",
       "    }\n",
       "</style>\n",
       "<table border=\"1\" class=\"dataframe\">\n",
       "  <thead>\n",
       "    <tr style=\"text-align: right;\">\n",
       "      <th></th>\n",
       "      <th>name</th>\n",
       "      <th>force</th>\n",
       "      <th>level</th>\n",
       "      <th>mechanic</th>\n",
       "      <th>equipment</th>\n",
       "      <th>primaryMuscles</th>\n",
       "      <th>secondaryMuscles</th>\n",
       "      <th>instructions</th>\n",
       "      <th>category</th>\n",
       "      <th>images</th>\n",
       "      <th>id</th>\n",
       "    </tr>\n",
       "  </thead>\n",
       "  <tbody>\n",
       "    <tr>\n",
       "      <th>0</th>\n",
       "      <td>3/4 Sit-Up</td>\n",
       "      <td>pull</td>\n",
       "      <td>beginner</td>\n",
       "      <td>compound</td>\n",
       "      <td>body only</td>\n",
       "      <td>abdominals</td>\n",
       "      <td>NaN</td>\n",
       "      <td>Lie down on the floor and secure your feet. Yo...</td>\n",
       "      <td>strength</td>\n",
       "      <td>3_4_Sit-Up/0.jpg, 3_4_Sit-Up/1.jpg</td>\n",
       "      <td>3_4_Sit-Up</td>\n",
       "    </tr>\n",
       "    <tr>\n",
       "      <th>1</th>\n",
       "      <td>90/90 Hamstring</td>\n",
       "      <td>push</td>\n",
       "      <td>beginner</td>\n",
       "      <td>NaN</td>\n",
       "      <td>body only</td>\n",
       "      <td>hamstrings</td>\n",
       "      <td>calves</td>\n",
       "      <td>Lie on your back, with one leg extended straig...</td>\n",
       "      <td>stretching</td>\n",
       "      <td>90_90_Hamstring/0.jpg, 90_90_Hamstring/1.jpg</td>\n",
       "      <td>90_90_Hamstring</td>\n",
       "    </tr>\n",
       "    <tr>\n",
       "      <th>2</th>\n",
       "      <td>Ab Crunch Machine</td>\n",
       "      <td>pull</td>\n",
       "      <td>intermediate</td>\n",
       "      <td>isolation</td>\n",
       "      <td>machine</td>\n",
       "      <td>abdominals</td>\n",
       "      <td>NaN</td>\n",
       "      <td>Select a light resistance and sit down on the ...</td>\n",
       "      <td>strength</td>\n",
       "      <td>Ab_Crunch_Machine/0.jpg, Ab_Crunch_Machine/1.jpg</td>\n",
       "      <td>Ab_Crunch_Machine</td>\n",
       "    </tr>\n",
       "    <tr>\n",
       "      <th>3</th>\n",
       "      <td>Ab Roller</td>\n",
       "      <td>pull</td>\n",
       "      <td>intermediate</td>\n",
       "      <td>compound</td>\n",
       "      <td>other</td>\n",
       "      <td>abdominals</td>\n",
       "      <td>shoulders</td>\n",
       "      <td>Hold the Ab Roller with both hands and kneel o...</td>\n",
       "      <td>strength</td>\n",
       "      <td>Ab_Roller/0.jpg, Ab_Roller/1.jpg</td>\n",
       "      <td>Ab_Roller</td>\n",
       "    </tr>\n",
       "    <tr>\n",
       "      <th>4</th>\n",
       "      <td>Adductor</td>\n",
       "      <td>static</td>\n",
       "      <td>intermediate</td>\n",
       "      <td>isolation</td>\n",
       "      <td>foam roll</td>\n",
       "      <td>adductors</td>\n",
       "      <td>NaN</td>\n",
       "      <td>Lie face down with one leg on a foam roll. | R...</td>\n",
       "      <td>stretching</td>\n",
       "      <td>Adductor/0.jpg, Adductor/1.jpg</td>\n",
       "      <td>Adductor</td>\n",
       "    </tr>\n",
       "  </tbody>\n",
       "</table>\n",
       "</div>"
      ],
      "text/plain": [
       "                name   force         level   mechanic  equipment  \\\n",
       "0         3/4 Sit-Up    pull      beginner   compound  body only   \n",
       "1    90/90 Hamstring    push      beginner        NaN  body only   \n",
       "2  Ab Crunch Machine    pull  intermediate  isolation    machine   \n",
       "3          Ab Roller    pull  intermediate   compound      other   \n",
       "4           Adductor  static  intermediate  isolation  foam roll   \n",
       "\n",
       "  primaryMuscles secondaryMuscles  \\\n",
       "0     abdominals              NaN   \n",
       "1     hamstrings           calves   \n",
       "2     abdominals              NaN   \n",
       "3     abdominals        shoulders   \n",
       "4      adductors              NaN   \n",
       "\n",
       "                                        instructions    category  \\\n",
       "0  Lie down on the floor and secure your feet. Yo...    strength   \n",
       "1  Lie on your back, with one leg extended straig...  stretching   \n",
       "2  Select a light resistance and sit down on the ...    strength   \n",
       "3  Hold the Ab Roller with both hands and kneel o...    strength   \n",
       "4  Lie face down with one leg on a foam roll. | R...  stretching   \n",
       "\n",
       "                                             images                 id  \n",
       "0                3_4_Sit-Up/0.jpg, 3_4_Sit-Up/1.jpg         3_4_Sit-Up  \n",
       "1      90_90_Hamstring/0.jpg, 90_90_Hamstring/1.jpg    90_90_Hamstring  \n",
       "2  Ab_Crunch_Machine/0.jpg, Ab_Crunch_Machine/1.jpg  Ab_Crunch_Machine  \n",
       "3                  Ab_Roller/0.jpg, Ab_Roller/1.jpg          Ab_Roller  \n",
       "4                    Adductor/0.jpg, Adductor/1.jpg           Adductor  "
      ]
     },
     "execution_count": 3,
     "metadata": {},
     "output_type": "execute_result"
    }
   ],
   "source": [
    "exercise_data = pd.read_csv('./exercises.csv')\n",
    "exercise_data.head(  )"
   ]
  },
  {
   "cell_type": "code",
   "execution_count": 8,
   "metadata": {},
   "outputs": [
    {
     "data": {
      "text/plain": [
       "array(['abdominals', 'hamstrings', 'adductors', 'quadriceps', 'biceps',\n",
       "       'shoulders', 'chest', 'middle back', 'calves', 'glutes',\n",
       "       'lower back', 'lats', 'triceps', 'traps', 'forearms', 'neck',\n",
       "       'abductors'], dtype=object)"
      ]
     },
     "execution_count": 8,
     "metadata": {},
     "output_type": "execute_result"
    }
   ],
   "source": [
    "exercise_data['primaryMuscles'].unique()"
   ]
  },
  {
   "cell_type": "code",
   "execution_count": 7,
   "metadata": {},
   "outputs": [
    {
     "data": {
      "text/plain": [
       "array([nan, 'calves', 'shoulders', 'glutes, hamstrings, shoulders',\n",
       "       'quadriceps', 'forearms',\n",
       "       'abductors, adductors, calves, glutes, hamstrings', 'triceps',\n",
       "       'abdominals, shoulders, triceps',\n",
       "       'biceps, calves, forearms, glutes, lower back, traps',\n",
       "       'biceps, lats', 'abdominals, biceps, chest, lats, triceps',\n",
       "       'middle back, traps, triceps', 'traps',\n",
       "       'biceps, forearms, glutes, hamstrings, quadriceps',\n",
       "       'abdominals, adductors, biceps, calves, forearms, glutes, hamstrings, middle back, quadriceps, traps',\n",
       "       'forearms, glutes, hamstrings, middle back, quadriceps, traps',\n",
       "       'middle back, triceps',\n",
       "       'calves, forearms, glutes, hamstrings, lower back',\n",
       "       'hamstrings, quadriceps', 'calves, glutes',\n",
       "       'abdominals, forearms, middle back', 'glutes, lower back',\n",
       "       'middle back, traps', 'lower back, shoulders',\n",
       "       'shoulders, triceps',\n",
       "       'calves, forearms, glutes, hamstrings, lats, middle back, quadriceps, traps',\n",
       "       'calves, glutes, hamstrings, lower back', 'calves, hamstrings',\n",
       "       'calves, forearms, hamstrings', 'chest',\n",
       "       'calves, glutes, hamstrings', 'biceps, lats, middle back',\n",
       "       'glutes, hamstrings, lats, shoulders', 'chest, triceps',\n",
       "       'forearms, middle back', 'lower back',\n",
       "       'calves, hamstrings, lower back',\n",
       "       'calves, glutes, hamstrings, quadriceps', 'chest, forearms',\n",
       "       'chest, shoulders', 'chest, forearms, lats, shoulders',\n",
       "       'chest, lats, shoulders', 'chest, lats, shoulders, triceps',\n",
       "       'lats, shoulders, triceps', 'biceps, lats, shoulders',\n",
       "       'lower back, middle back, traps',\n",
       "       'biceps, lats, lower back, traps',\n",
       "       'glutes, hamstrings, lower back, quadriceps, shoulders, triceps',\n",
       "       'abdominals, forearms', 'glutes, hamstrings', 'biceps, shoulders',\n",
       "       'abductors, adductors, calves, glutes, quadriceps',\n",
       "       'adductors, calves, glutes, hamstrings, lower back',\n",
       "       'abductors, adductors, calves, glutes, hamstrings, lower back',\n",
       "       'hamstrings', 'forearms, glutes, hamstrings, lower back',\n",
       "       'biceps, middle back',\n",
       "       'forearms, glutes, hamstrings, lower back, traps',\n",
       "       'abdominals, abductors, calves, glutes, hamstrings, quadriceps',\n",
       "       'abdominals, chest, shoulders', 'adductors', 'biceps, chest',\n",
       "       'glutes, middle back', 'biceps, forearms, middle back',\n",
       "       'forearms, glutes, hamstrings, lower back, traps, triceps',\n",
       "       'calves, forearms, glutes, lower back, quadriceps, shoulders, traps',\n",
       "       'forearms, glutes, lower back, middle back, quadriceps, traps',\n",
       "       'forearms, shoulders',\n",
       "       'abdominals, glutes, hamstrings, lower back, quadriceps, traps, triceps',\n",
       "       'abdominals, calves, glutes, hamstrings, lower back, middle back, quadriceps, shoulders, traps, triceps',\n",
       "       'calves, glutes, hamstrings, shoulders, traps',\n",
       "       'biceps, middle back, shoulders',\n",
       "       'abdominals, biceps, calves, forearms, lower back, shoulders, traps',\n",
       "       'abdominals, abductors, glutes, hamstrings, quadriceps',\n",
       "       'abductors, glutes',\n",
       "       'biceps, calves, forearms, glutes, lower back, quadriceps, traps',\n",
       "       'calves, quadriceps, triceps', 'glutes, hamstrings, quadriceps',\n",
       "       'glutes, hamstrings, shoulders, triceps', 'abdominals, hamstrings',\n",
       "       'biceps, forearms, lats, shoulders', 'middle back',\n",
       "       'biceps, traps', 'biceps',\n",
       "       'abdominals, glutes, hamstrings, lower back, quadriceps, traps',\n",
       "       'calves, glutes, hamstrings, quadriceps, shoulders, triceps',\n",
       "       'abdominals, calves, glutes, hamstrings',\n",
       "       'abdominals, glutes, hamstrings',\n",
       "       'calves, glutes, hamstrings, shoulders',\n",
       "       'abdominals, glutes, lower back',\n",
       "       'calves, forearms, glutes, hamstrings, lower back, shoulders, traps',\n",
       "       'abdominals, calves, forearms, glutes, lower back, quadriceps, shoulders, traps',\n",
       "       'abdominals, forearms, glutes, hamstrings, shoulders, triceps',\n",
       "       'glutes', 'lats, shoulders', 'lats',\n",
       "       'chest, glutes, hamstrings, lower back, quadriceps, traps',\n",
       "       'calves, glutes, hamstrings, lower back, traps',\n",
       "       'glutes, hamstrings, quadriceps, triceps', 'abdominals, calves',\n",
       "       'abdominals, biceps, calves, forearms, glutes, hamstrings, middle back, quadriceps, shoulders, traps',\n",
       "       'calves, glutes, lower back, quadriceps, traps',\n",
       "       'hamstrings, shoulders',\n",
       "       'calves, glutes, lower back, shoulders, traps', 'abdominals',\n",
       "       'adductors, glutes, hamstrings, quadriceps, shoulders',\n",
       "       'quadriceps, triceps',\n",
       "       'abdominals, hamstrings, quadriceps, triceps',\n",
       "       'abdominals, calves, hamstrings, quadriceps, triceps',\n",
       "       'abdominals, biceps, forearms, middle back, shoulders, traps, triceps',\n",
       "       'abductors, lower back', 'calves, hamstrings, quadriceps',\n",
       "       'abdominals, hamstrings, lower back',\n",
       "       'glutes, lower back, shoulders',\n",
       "       'abdominals, calves, chest, hamstrings, quadriceps, triceps',\n",
       "       'abductors, calves, glutes, hamstrings, quadriceps',\n",
       "       'calves, quadriceps', 'calves, glutes, quadriceps',\n",
       "       'abdominals, chest, glutes, hamstrings, lower back, middle back, quadriceps, traps, triceps',\n",
       "       'biceps, middle back, traps', 'biceps, lats, traps', 'abductors',\n",
       "       'abdominals, hamstrings, quadriceps',\n",
       "       'abdominals, lats, lower back', 'chest, hamstrings, shoulders',\n",
       "       'glutes, lower back, quadriceps, shoulders, triceps',\n",
       "       'calves, glutes, lower back',\n",
       "       'glutes, lower back, shoulders, traps',\n",
       "       'calves, glutes, hamstrings, lower back, traps, triceps',\n",
       "       'calves, glutes, lower back, shoulders',\n",
       "       'forearms, glutes, lower back, quadriceps, shoulders',\n",
       "       'abdominals, calves, glutes, hamstrings, lower back, traps',\n",
       "       'biceps, forearms, lats', 'abdominals, biceps, chest',\n",
       "       'hamstrings, lower back',\n",
       "       'glutes, lower back, quadriceps, shoulders',\n",
       "       'chest, shoulders, triceps',\n",
       "       'abdominals, calves, glutes, hamstrings, lower back, shoulders, triceps',\n",
       "       'chest, forearms, lats, triceps',\n",
       "       'chest, forearms, lats, middle back, shoulders',\n",
       "       'calves, forearms, glutes, lower back, middle back, quadriceps, shoulders, traps, triceps',\n",
       "       'abdominals, calves, glutes, hamstrings, shoulders, triceps',\n",
       "       'calves, glutes, lower back, quadriceps, shoulders, traps, triceps',\n",
       "       'calves, forearms, glutes, hamstrings, lower back, shoulders, traps, triceps',\n",
       "       'adductors, calves, glutes, lower back, quadriceps, shoulders, traps',\n",
       "       'calves, chest, glutes, quadriceps, shoulders', 'forearms, traps',\n",
       "       'forearms, glutes, hamstrings, quadriceps, traps',\n",
       "       'forearms, glutes, hamstrings, traps',\n",
       "       'abductors, adductors, calves, forearms, glutes, hamstrings, lower back',\n",
       "       'abductors, adductors, calves, glutes, hamstrings, quadriceps',\n",
       "       'abductors, adductors, calves, forearms, glutes, lower back, quadriceps, traps',\n",
       "       'abdominals, calves, glutes, hamstrings, lower back, quadriceps, traps',\n",
       "       'forearms, glutes, lower back, traps',\n",
       "       'biceps, forearms, middle back, shoulders',\n",
       "       'biceps, calves, glutes, hamstrings, lower back, middle back',\n",
       "       'abdominals, biceps, calves, forearms, glutes, hamstrings, lower back, middle back, shoulders, traps',\n",
       "       'lats, middle back', 'abdominals, triceps',\n",
       "       'abductors, adductors, calves, hamstrings', 'forearms, lats',\n",
       "       'abductors, glutes, hamstrings', 'calves, middle back, quadriceps',\n",
       "       'calves, chest, glutes, hamstrings, triceps',\n",
       "       'calves, forearms, lats, middle back, shoulders',\n",
       "       'glutes, lower back, quadriceps, shoulders, traps',\n",
       "       'biceps, glutes, hamstrings, lower back, shoulders, traps, triceps',\n",
       "       'calves, glutes, hamstrings, shoulders, triceps',\n",
       "       'forearms, glutes, hamstrings, lower back, quadriceps, traps',\n",
       "       'glutes, shoulders', 'lats, lower back, neck, traps',\n",
       "       'calves, forearms, glutes, hamstrings, lower back, quadriceps, shoulders, traps, triceps',\n",
       "       'chest, lats',\n",
       "       'adductors, forearms, glutes, lower back, middle back, quadriceps, traps',\n",
       "       'abductors, adductors, forearms, glutes, lower back, middle back, quadriceps, traps',\n",
       "       'chest, lower back, shoulders', 'forearms, shoulders, triceps',\n",
       "       'adductors, calves',\n",
       "       'calves, chest, forearms, glutes, hamstrings, lower back, shoulders, traps, triceps',\n",
       "       'lower back, middle back', 'glutes, quadriceps, shoulders',\n",
       "       'glutes, hamstrings, middle back', 'adductors, glutes, lower back',\n",
       "       'glutes, hamstrings, lower back',\n",
       "       'abdominals, abductors, adductors, calves, glutes, hamstrings, lower back'],\n",
       "      dtype=object)"
      ]
     },
     "execution_count": 7,
     "metadata": {},
     "output_type": "execute_result"
    }
   ],
   "source": [
    "exercise_data['secondaryMuscles'].unique()"
   ]
  },
  {
   "cell_type": "code",
   "execution_count": 9,
   "metadata": {},
   "outputs": [
    {
     "data": {
      "text/plain": [
       "array(['beginner', 'intermediate', 'expert'], dtype=object)"
      ]
     },
     "execution_count": 9,
     "metadata": {},
     "output_type": "execute_result"
    }
   ],
   "source": [
    "exercise_data['level'].unique()"
   ]
  },
  {
   "cell_type": "code",
   "execution_count": 10,
   "metadata": {},
   "outputs": [
    {
     "data": {
      "text/plain": [
       "array(['body only', 'machine', 'other', 'foam roll', nan, 'kettlebells',\n",
       "       'dumbbell', 'cable', 'barbell', 'bands', 'medicine ball',\n",
       "       'exercise ball', 'e-z curl bar'], dtype=object)"
      ]
     },
     "execution_count": 10,
     "metadata": {},
     "output_type": "execute_result"
    }
   ],
   "source": [
    "exercise_data['equipment'].unique()"
   ]
  },
  {
   "cell_type": "code",
   "execution_count": 11,
   "metadata": {},
   "outputs": [
    {
     "data": {
      "text/plain": [
       "array(['strength', 'stretching', 'plyometrics', 'strongman',\n",
       "       'powerlifting', 'cardio', 'olympic weightlifting'], dtype=object)"
      ]
     },
     "execution_count": 11,
     "metadata": {},
     "output_type": "execute_result"
    }
   ],
   "source": [
    "exercise_data['category'].unique()"
   ]
  },
  {
   "cell_type": "code",
   "execution_count": null,
   "metadata": {},
   "outputs": [],
   "source": []
  }
 ],
 "metadata": {
  "kernelspec": {
   "display_name": "Python 3",
   "language": "python",
   "name": "python3"
  },
  "language_info": {
   "codemirror_mode": {
    "name": "ipython",
    "version": 3
   },
   "file_extension": ".py",
   "mimetype": "text/x-python",
   "name": "python",
   "nbconvert_exporter": "python",
   "pygments_lexer": "ipython3",
   "version": "3.11.4"
  }
 },
 "nbformat": 4,
 "nbformat_minor": 2
}
